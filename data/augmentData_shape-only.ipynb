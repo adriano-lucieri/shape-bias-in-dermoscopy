{
 "cells": [
  {
   "cell_type": "markdown",
   "source": [
    "# Shape-Only\n",
    "Here we only extract the shape, by colorizing the lesion segmentation images by the dataset image mean, to reduce the domain shift."
   ],
   "metadata": {}
  },
  {
   "cell_type": "code",
   "execution_count": 1,
   "source": [
    "import os\n",
    "import cv2\n",
    "import numpy as np\n",
    "\n",
    "datasets = [\n",
    "    {\n",
    "        'dataset_name': 'Derm7pt',\n",
    "        'segpath': 'Derm7pt/segmentations',\n",
    "        'dstpath': 'Derm7pt/augmentations',\n",
    "        'mean_color': [0.7579, 0.6583, 0.5911],\n",
    "        'replace_strings': ['segmentations', 'augmentations/segmentation'],\n",
    "    },\n",
    "    {\n",
    "        'dataset_name': 'ISIC',\n",
    "        'segpath': 'ISIC/segmentations',\n",
    "        'dstpath': 'ISIC/augmentations',\n",
    "        'mean_color': [0.6809, 0.5183, 0.5192],\n",
    "        'replace_strings': ['segmentations', 'augmentations/segmentation'],\n",
    "    }\n",
    "]\n",
    "\n",
    "for setting in datasets:\n",
    "    gen = np.random.default_rng(seed=42)\n",
    "\n",
    "    dataset_name = setting['dataset_name']\n",
    "    segpath = setting['segpath']\n",
    "    dstpath = setting['dstpath']\n",
    "    mean_color = np.array(setting['mean_color'])\n",
    "    replace_strings = setting['replace_strings']\n",
    "\n",
    "    lst_filenames = []\n",
    "    for root, dirs, files in os.walk(segpath):\n",
    "        files = [ file for file in files if not file.endswith( ('.txt','.tar') ) ]\n",
    "        for filename in files:\n",
    "            \n",
    "            abs_filepath = os.path.join(root, filename)\n",
    "            \n",
    "            img = cv2.imread(abs_filepath)\n",
    "            img = cv2.cvtColor(img, cv2.COLOR_BGR2RGB)\n",
    "            ret, img = cv2.threshold(img,127,255,cv2.THRESH_BINARY)\n",
    "\n",
    "            color1 = mean_color - gen.uniform(0.01, 0.2, 1)\n",
    "            color2 = 2*mean_color - color1\n",
    "\n",
    "            mask = img == 0\n",
    "            mask = mask[:,:,0]\n",
    "\n",
    "            img[mask] = color2*255\n",
    "            img[~mask] = color1*255\n",
    "\n",
    "            img = cv2.blur(img, (5, 5))\n",
    "\n",
    "            img = cv2.cvtColor(img, cv2.COLOR_RGB2BGR)\n",
    "\n",
    "            dst_filepath = abs_filepath.replace(replace_strings[0], replace_strings[1])\n",
    "\n",
    "            # Save processed image\n",
    "            basedir = '/'.join(dst_filepath.split('/')[:-1])\n",
    "                        \n",
    "            if not os.path.exists(basedir):\n",
    "                os.makedirs(basedir)\n",
    "                \n",
    "            cv2.imwrite(dst_filepath, img)\n",
    "\n"
   ],
   "outputs": [],
   "metadata": {}
  },
  {
   "cell_type": "code",
   "execution_count": null,
   "source": [],
   "outputs": [],
   "metadata": {}
  }
 ],
 "metadata": {
  "orig_nbformat": 4,
  "language_info": {
   "name": "python",
   "version": "3.8.12",
   "mimetype": "text/x-python",
   "codemirror_mode": {
    "name": "ipython",
    "version": 3
   },
   "pygments_lexer": "ipython3",
   "nbconvert_exporter": "python",
   "file_extension": ".py"
  },
  "kernelspec": {
   "name": "python3",
   "display_name": "Python 3.8.12 64-bit ('frexplain': conda)"
  },
  "interpreter": {
   "hash": "7d943cd08861bb9b6a31b23711773ad90e124ece58d3c2770676a2d0f5dfd989"
  }
 },
 "nbformat": 4,
 "nbformat_minor": 2
}