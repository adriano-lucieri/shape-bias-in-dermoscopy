{
 "cells": [
  {
   "cell_type": "code",
   "execution_count": 3,
   "source": [
    "import pandas as pd\n",
    "\n",
    "import io\n",
    "import os\n",
    "import os.path as pt\n",
    "import csv\n",
    "import zipfile\n",
    "import random\n",
    "from multiprocessing.dummy import Pool as ThreadPool\n",
    "\n",
    "import numpy as np\n",
    "from PIL import Image\n",
    "from PIL import ImageChops\n",
    "from simplejpeg import decode_jpeg\n",
    "from simplejpeg import encode_jpeg\n",
    "\n",
    "from datadings.writer import FileWriter\n",
    "from datadings.tools import yield_threaded\n",
    "from datadings.tools import document_keys\n",
    "\n",
    "from sklearn.model_selection import train_test_split\n",
    "\n",
    "### Creates the 5Class Derm7pt dataset also used in Kawahare et al.(2019).\n",
    "# https://ieeexplore.ieee.org/stamp/stamp.jsp?arnumber=8333693&casa_token=fE8RRfpkEq0AAAAA:0GaEzwzYsMyTaa0-ZLtzT0H0BD4FK0qaU5BXKzqo24S6LjygoYgcWfgaU9ia1DZX8jUnG0zXIw&tag=1\n",
    "# and in Fu et al.\n",
    "# https://arxiv.org/ftp/arxiv/papers/2104/2104.00201.pdf\n",
    "\n",
    "# __doc__ += document_keys(\n",
    "#     Derm7pt\n",
    "#     )\n",
    "\n",
    "def Derm7pt(\n",
    "        key,\n",
    "        image,\n",
    "        annotations\n",
    "):\n",
    "    \"\"\"\n",
    "Returns a dictionary::\n",
    "\n",
    "    {\n",
    "        'key': key,\n",
    "        'image': image,\n",
    "        'diagnosis': diagnosis\n",
    "        'seven_point_score': seven_point_score\n",
    "        'pigment_network': pigment_network\n",
    "        ...\n",
    "    }\n",
    "    \"\"\"\n",
    "    return {\n",
    "        'key': key,\n",
    "        'image': image,\n",
    "        'diagnosis': annotationstring2int('diagnosis', annotations['diagnosis']),\n",
    "        'seven_point_score': annotations['seven_point_score'],\n",
    "        'pigment_network': annotationstring2int('pigment_network', annotations['pigment_network']),\n",
    "        'streaks': annotationstring2int('streaks', annotations['streaks']),\n",
    "        'pigmentation': annotationstring2int('pigmentation', annotations['pigmentation']),\n",
    "        'regression_structures': annotationstring2int('regression_structures', annotations['regression_structures']),\n",
    "        'dots_and_globules': annotationstring2int('dots_and_globules', annotations['dots_and_globules']),\n",
    "        'blue_whitish_veil': annotationstring2int('blue_whitish_veil', annotations['blue_whitish_veil']),\n",
    "        'vascular_structures': annotationstring2int('vascular_structures', annotations['vascular_structures']),\n",
    "        'level_of_diagnostic_difficulty': annotationstring2int('level_of_diagnostic_difficulty', annotations['level_of_diagnostic_difficulty']),\n",
    "        'elevation': annotationstring2int('elevation', annotations['elevation']),\n",
    "        'location': annotationstring2int('location', annotations['location']),\n",
    "        'sex': annotationstring2int('sex', annotations['sex']),\n",
    "        'management': annotationstring2int('management', annotations['management'])        \n",
    "    }\n",
    "\n",
    "def annotationstring2int(key, value):\n",
    "        dictionary = {\n",
    "            'diagnosis': {\n",
    "                'basal cell carcinoma': 0, \n",
    "                'blue nevus': 1, \n",
    "                'clark nevus': 1,\n",
    "                'combined nevus': 1, \n",
    "                'congenital nevus': 1, \n",
    "                'dermal nevus': 1,\n",
    "                'dermatofibroma': 4, \n",
    "                'lentigo': 4, \n",
    "                'melanoma (in situ)': 2,\n",
    "                'melanoma (less than 0.76 mm)': 2, \n",
    "                'melanoma (0.76 to 1.5 mm)': 2,\n",
    "                'melanoma (more than 1.5 mm)': 2, \n",
    "                'melanoma metastasis': 2, \n",
    "                'melanosis': 4,\n",
    "                'miscellaneous': 4, \n",
    "                'recurrent nevus': 1, \n",
    "                'reed or spitz nevus': 1,\n",
    "                'seborrheic keratosis': 3, \n",
    "                'vascular lesion': 4, \n",
    "                'melanoma': 2\n",
    "            },\n",
    "            'pigment_network': {\n",
    "                'absent': 0,\n",
    "                'typical': 1,\n",
    "                'atypical': 2\n",
    "            },\n",
    "            'streaks': {\n",
    "                'absent': 0,\n",
    "                'regular': 1,\n",
    "                'irregular': 2\n",
    "            },\n",
    "            'pigmentation': {\n",
    "                'absent': 0, \n",
    "                'diffuse regular': 1, \n",
    "                'localized regular': 2,\n",
    "                'diffuse irregular': 3, \n",
    "                'localized irregular': 4,\n",
    "            },\n",
    "            'regression_structures': {\n",
    "                'absent': 0, \n",
    "                'blue areas': 1, \n",
    "                'white areas': 2,\n",
    "                'combinations': 3\n",
    "            },\n",
    "            'dots_and_globules': {\n",
    "                'absent': 0,\n",
    "                'regular': 1,\n",
    "                'irregular': 2\n",
    "            },\n",
    "            'blue_whitish_veil': {\n",
    "                'absent': 0,\n",
    "                'present': 1\n",
    "            },\n",
    "            'vascular_structures': {\n",
    "                'absent': 0, \n",
    "                'arborizing': 1, \n",
    "                'within regression': 1, \n",
    "                'hairpin': 1, \n",
    "                'dotted': 1,\n",
    "                'comma': 1, \n",
    "                'linear irregular': 1, \n",
    "                'wreath': 1\n",
    "            },\n",
    "            'level_of_diagnostic_difficulty': {\n",
    "                'low': 0,\n",
    "                'medium': 1,\n",
    "                'high': 2\n",
    "            },\n",
    "            'elevation': {\n",
    "                'flat': 0,\n",
    "                'nodular': 1, \n",
    "                'palpable': 2                \n",
    "            },\n",
    "            'location': {\n",
    "                'abdomen': 0, \n",
    "                'head neck': 1, \n",
    "                'lower limbs': 2, \n",
    "                'upper limbs': 3, \n",
    "                'back': 4,\n",
    "                'chest': 5, \n",
    "                'acral': 6, \n",
    "                'buttocks': 7, \n",
    "                'genital areas': 8\n",
    "            },\n",
    "            'sex': {\n",
    "                'female': 0, \n",
    "                'male': 1\n",
    "            },\n",
    "            'management': {\n",
    "                'no further examination': 0,\n",
    "                'clinical follow up': 1,\n",
    "                'excision': 2\n",
    "            },\n",
    "        }\n",
    "        \n",
    "        return dictionary[key][value]\n",
    "\n",
    "def __transform_image(im, size=64):\n",
    "    return im.resize(\n",
    "        (256, 256),\n",
    "        Image.ANTIALIAS,\n",
    "    )\n",
    "\n",
    "\n",
    "def __decode(data):\n",
    "    return Image.fromarray(decode_jpeg(\n",
    "        data, fastupsample=False, fastdct=False\n",
    "    ), 'RGB')\n",
    "\n",
    "\n",
    "def __tobytes(im):\n",
    "    bio = io.BytesIO()\n",
    "    im.save(bio, 'PNG', optimize=True)\n",
    "    return bio.getvalue()\n",
    "\n",
    "\n",
    "def yield_samples(partition_data, augmentation):\n",
    "    for index, sample in partition_data.iterrows():\n",
    "        filename = sample.derm\n",
    "        filename = os.path.join(f'../augmentations/{augmentation}/', filename)\n",
    "        \n",
    "        imagedata = Image.open(filename)\n",
    "        \n",
    "        yield filename, imagedata, sample\n",
    "\n",
    "\n",
    "def create_sample(item):\n",
    "    filename, imagedata, annotation = item\n",
    "\n",
    "    #image = __decode(imagedata)\n",
    "    image = __transform_image(imagedata)\n",
    "    image_binary = __tobytes(image)\n",
    "    \n",
    "    filename = filename.split(os.sep)[-1]\n",
    "    return Derm7pt(\n",
    "        filename,\n",
    "        image_binary,\n",
    "        annotation,\n",
    "    )\n",
    "\n",
    "def write_set(partition, partition_data, t_name, augmentation):\n",
    "    outdir = f'../datadings/Augmentations/{augmentation}/Derm7pt_strat_perTarget/Derm7pt_strat_{t_name}'\n",
    "\n",
    "    gen = yield_threaded(yield_samples(partition_data, augmentation))\n",
    "    \n",
    "    outfile = pt.join(outdir, partition + '.msgpack')\n",
    "    filelength = partition_data.size\n",
    "    with FileWriter(outfile, total=filelength, overwrite=True) as writer:\n",
    "        pool = ThreadPool(8)\n",
    "        for sample in pool.imap_unordered(create_sample, gen):\n",
    "            writer.write(sample)\n",
    "\n",
    "def write_sets():\n",
    "    \n",
    "    target_names = ['diagnosis']\n",
    "    \n",
    "    target_augmentations = [\n",
    "        'textures-only_IMGSize-256_RasterSize-32_CropSize-200',\n",
    "        'textures-removed_IMGSize-256_CropSize-200',\n",
    "        'shape-removed_IMGSize-256_RasterSize-16_CropSize-200',\n",
    "    ]\n",
    "    \n",
    "    random_i = 42\n",
    "    np.random.seed(random_i)\n",
    "    random.seed(random_i)\n",
    "    \n",
    "    data = pd.read_csv('../original/meta/meta.csv')\n",
    "    \n",
    "    for t_name in target_names:\n",
    "        print(t_name)\n",
    "        \n",
    "        # Get relevent indices and labels\n",
    "        all_indices = data.index.tolist()\n",
    "        all_labels = data[t_name].tolist()\n",
    "        all_labels = [annotationstring2int(t_name, x) for x in all_labels]\n",
    "        \n",
    "        # Stratified split\n",
    "        train_indices, test_indices, train_labels, _ = train_test_split(all_indices, all_labels, test_size=0.33, stratify=all_labels, random_state=random_i)\n",
    "        train_indices, val_indices, _, _ = train_test_split(train_indices, train_labels, test_size=0.33, stratify=train_labels, random_state=random_i)\n",
    "\n",
    "        try:\n",
    "            for partition, partition_indexes in zip(['train', 'val', 'test'], [train_indices, val_indices, test_indices]):\n",
    "                partition_data = data.loc[partition_indexes]\n",
    "\n",
    "                for augmentation in target_augmentations:\n",
    "                    print(augmentation)\n",
    "                    \n",
    "                    write_set(partition, partition_data, t_name, augmentation)\n",
    "        except FileExistsError:\n",
    "            pass\n",
    "\n",
    "        print('')"
   ],
   "outputs": [],
   "metadata": {}
  },
  {
   "cell_type": "code",
   "execution_count": 4,
   "source": [
    "write_sets()"
   ],
   "outputs": [
    {
     "output_type": "stream",
     "name": "stderr",
     "text": [
      "train.msgpack   0% 00:00<?, ?it/s"
     ]
    },
    {
     "output_type": "stream",
     "name": "stdout",
     "text": [
      "diagnosis\n",
      "textures-only_IMGSize-256_RasterSize-32_CropSize-200\n"
     ]
    },
    {
     "output_type": "stream",
     "name": "stderr",
     "text": [
      "train.msgpack   5% 00:15<04:40, 29.09it/s\n",
      "train.msgpack   0% 00:00<?, ?it/s"
     ]
    },
    {
     "output_type": "stream",
     "name": "stdout",
     "text": [
      "453 samples written\n",
      "textures-removed_IMGSize-256_CropSize-200\n"
     ]
    },
    {
     "output_type": "stream",
     "name": "stderr",
     "text": [
      "train.msgpack   5% 00:06<01:57, 69.54it/s\n",
      "train.msgpack   0% 00:00<?, ?it/s"
     ]
    },
    {
     "output_type": "stream",
     "name": "stdout",
     "text": [
      "453 samples written\n",
      "shape-removed_IMGSize-256_RasterSize-16_CropSize-200\n"
     ]
    },
    {
     "output_type": "stream",
     "name": "stderr",
     "text": [
      "train.msgpack   5% 00:12<03:51, 35.21it/s\n",
      "val.msgpack   0% 00:00<?, ?it/s"
     ]
    },
    {
     "output_type": "stream",
     "name": "stdout",
     "text": [
      "453 samples written\n",
      "textures-only_IMGSize-256_RasterSize-32_CropSize-200\n"
     ]
    },
    {
     "output_type": "stream",
     "name": "stderr",
     "text": [
      "val.msgpack   5% 00:07<02:23, 28.12it/s\n",
      "val.msgpack   0% 00:00<?, ?it/s"
     ]
    },
    {
     "output_type": "stream",
     "name": "stdout",
     "text": [
      "224 samples written\n",
      "textures-removed_IMGSize-256_CropSize-200\n"
     ]
    },
    {
     "output_type": "stream",
     "name": "stderr",
     "text": [
      "val.msgpack   5% 00:02<00:52, 77.16it/s\n",
      "val.msgpack   0% 00:00<?, ?it/s"
     ]
    },
    {
     "output_type": "stream",
     "name": "stdout",
     "text": [
      "224 samples written\n",
      "shape-removed_IMGSize-256_RasterSize-16_CropSize-200\n"
     ]
    },
    {
     "output_type": "stream",
     "name": "stderr",
     "text": [
      "val.msgpack   5% 00:05<01:44, 38.56it/s\n",
      "test.msgpack   0% 00:00<?, ?it/s"
     ]
    },
    {
     "output_type": "stream",
     "name": "stdout",
     "text": [
      "224 samples written\n",
      "textures-only_IMGSize-256_RasterSize-32_CropSize-200\n"
     ]
    },
    {
     "output_type": "stream",
     "name": "stderr",
     "text": [
      "test.msgpack   5% 00:10<03:17, 30.36it/s\n",
      "test.msgpack   0% 00:00<?, ?it/s"
     ]
    },
    {
     "output_type": "stream",
     "name": "stdout",
     "text": [
      "334 samples written\n",
      "textures-removed_IMGSize-256_CropSize-200\n"
     ]
    },
    {
     "output_type": "stream",
     "name": "stderr",
     "text": [
      "test.msgpack   5% 00:04<01:19, 75.54it/s\n",
      "test.msgpack   0% 00:00<?, ?it/s"
     ]
    },
    {
     "output_type": "stream",
     "name": "stdout",
     "text": [
      "334 samples written\n",
      "shape-removed_IMGSize-256_RasterSize-16_CropSize-200\n"
     ]
    },
    {
     "output_type": "stream",
     "name": "stderr",
     "text": [
      "test.msgpack   5% 00:09<02:46, 36.13it/s"
     ]
    },
    {
     "output_type": "stream",
     "name": "stdout",
     "text": [
      "334 samples written\n",
      "\n"
     ]
    },
    {
     "output_type": "stream",
     "name": "stderr",
     "text": [
      "\n"
     ]
    }
   ],
   "metadata": {}
  },
  {
   "cell_type": "code",
   "execution_count": null,
   "source": [],
   "outputs": [],
   "metadata": {}
  }
 ],
 "metadata": {
  "kernelspec": {
   "name": "python3",
   "display_name": "Python 3.6.12 64-bit"
  },
  "language_info": {
   "codemirror_mode": {
    "name": "ipython",
    "version": 3
   },
   "file_extension": ".py",
   "mimetype": "text/x-python",
   "name": "python",
   "nbconvert_exporter": "python",
   "pygments_lexer": "ipython3",
   "version": "3.6.12"
  },
  "interpreter": {
   "hash": "31f2aee4e71d21fbe5cf8b01ff0e069b9275f58929596ceb00d14d90e3e16cd6"
  }
 },
 "nbformat": 4,
 "nbformat_minor": 5
}