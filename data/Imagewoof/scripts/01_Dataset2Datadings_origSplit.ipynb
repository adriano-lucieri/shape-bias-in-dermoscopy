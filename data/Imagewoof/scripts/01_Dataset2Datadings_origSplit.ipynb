{
 "cells": [
  {
   "cell_type": "code",
   "execution_count": 1,
   "source": [
    "import io\n",
    "import os\n",
    "import os.path as pt\n",
    "from multiprocessing.dummy import Pool as ThreadPool\n",
    "\n",
    "from PIL import Image\n",
    "from simplejpeg import decode_jpeg\n",
    "\n",
    "from datadings.writer import FileWriter\n",
    "from datadings.tools import yield_threaded\n",
    "\n",
    "from sklearn.model_selection import train_test_split\n",
    "\n",
    "\n",
    "# __doc__ += document_keys(\n",
    "#     Imagewoof\n",
    "#     )\n",
    "\n",
    "def Imagewoof(\n",
    "        key,\n",
    "        image,\n",
    "        label\n",
    "):\n",
    "    \"\"\"\n",
    "Returns a dictionary::\n",
    "\n",
    "    {\n",
    "        'key': key,\n",
    "        'image': image,\n",
    "        'label': label\n",
    "        ...\n",
    "    }\n",
    "    \"\"\"\n",
    "    return {\n",
    "        'key': key,\n",
    "        'image': image,\n",
    "        'label': label  \n",
    "    }\n",
    "\n",
    "def __transform_image(im, size=64):\n",
    "    return im.resize(\n",
    "        (256, 256),\n",
    "        Image.ANTIALIAS,\n",
    "    )\n",
    "\n",
    "\n",
    "def __decode(data):\n",
    "    return Image.fromarray(decode_jpeg(\n",
    "        data, fastupsample=False, fastdct=False\n",
    "    ), 'RGB')\n",
    "\n",
    "\n",
    "def __tobytes(im):\n",
    "    bio = io.BytesIO()\n",
    "    im.save(bio, 'PNG', optimize=True)\n",
    "    return bio.getvalue()\n",
    "\n",
    "\n",
    "def yield_samples(files, labels):\n",
    "    for filename, label in zip(files, labels):\n",
    "        \n",
    "        temp = Image.open(filename)\n",
    "        imagedata = temp.copy()\n",
    "        imagedata = imagedata.convert('RGB')\n",
    "        temp.close()\n",
    "        \n",
    "        yield filename, imagedata, label\n",
    "\n",
    "\n",
    "def create_sample(item):\n",
    "    filename, imagedata, label = item\n",
    "\n",
    "    image = __transform_image(imagedata)\n",
    "    image_binary = __tobytes(image)\n",
    "    \n",
    "    filename = filename.split(os.sep)[-1]\n",
    "    return Imagewoof(\n",
    "        filename,\n",
    "        image_binary,\n",
    "        label,\n",
    "    )\n",
    "\n",
    "def write_set(partition, files, labels):\n",
    "    outdir = '../datadings/'\n",
    "\n",
    "    gen = yield_threaded(yield_samples(files, labels))\n",
    "\n",
    "    outfile = pt.join(outdir, partition + '.msgpack')\n",
    "    filelength = len(files)\n",
    "    with FileWriter(outfile, total=filelength, overwrite=True) as writer:\n",
    "        pool = ThreadPool(8)\n",
    "        for sample in pool.imap_unordered(create_sample, gen):\n",
    "            writer.write(sample)\n",
    "\n",
    "def get_images_and_labels(split):\n",
    "    destination = f'../original/imagewoof2-320/{split}/'\n",
    "    \n",
    "    dct_folder2label = {\n",
    "        \"n02105641\": 0, # Old_English_sheepdog\n",
    "        \"n02099601\": 1, # Golden Retriever\n",
    "        \"n02115641\": 2, # Dingo?\n",
    "        \"n02088364\": 3, # Beagle\n",
    "        \"n02086240\": 4, # Shih-Tzu\n",
    "        \"n02093754\": 5, # Border_terrier\n",
    "        \"n02111889\": 6, # Samoyed\n",
    "        \"n02087394\": 7, # Rhodesian_ridgeback\n",
    "        \"n02089973\": 8, # English_foxhound\n",
    "        \"n02096294\": 9 # Australien_terrier\n",
    "    }\n",
    "\n",
    "    all_filenames = list()\n",
    "    all_labels = list()\n",
    "    \n",
    "    for dirpath, dnames, fnames in os.walk(destination):\n",
    "        for f in fnames:\n",
    "            if f.endswith(\".JPEG\"):\n",
    "                all_filenames.append(os.path.join(dirpath, f))\n",
    "                label = dct_folder2label[dirpath.split('/')[-1]]\n",
    "                all_labels.append(label)\n",
    "            else:\n",
    "                print(f)\n",
    "                \n",
    "    return all_filenames, all_labels\n",
    "\n",
    "def write_sets():\n",
    "\n",
    "    train_files, train_labels = get_images_and_labels('train')\n",
    "    test_files, test_labels = get_images_and_labels('val') # Use val as testset and split train to get new validation set\n",
    "    \n",
    "    train_files, val_files, train_labels, val_labels = train_test_split(train_files, train_labels, stratify=train_labels, test_size=0.33, random_state=42)\n",
    "    \n",
    "    portions = ['train', 'val', 'test']\n",
    "    files = [train_files, val_files, test_files]\n",
    "    labels = [train_labels, val_labels, test_labels]\n",
    "\n",
    "    try:\n",
    "        for partition, file, label in zip(portions, files, labels):\n",
    "            write_set(partition, file, label)\n",
    "    except FileExistsError:\n",
    "        pass"
   ],
   "outputs": [],
   "metadata": {}
  },
  {
   "cell_type": "code",
   "execution_count": 2,
   "source": [
    "write_sets()"
   ],
   "outputs": [
    {
     "output_type": "stream",
     "name": "stderr",
     "text": [
      "train.msgpack 100% 03:54<00:00, 25.73it/s\n",
      "val.msgpack   0% 00:00<?, ?it/s"
     ]
    },
    {
     "output_type": "stream",
     "name": "stdout",
     "text": [
      "6046 samples written\n"
     ]
    },
    {
     "output_type": "stream",
     "name": "stderr",
     "text": [
      "val.msgpack 100% 01:53<00:00, 26.32it/s\n",
      "test.msgpack   0% 00:00<?, ?it/s"
     ]
    },
    {
     "output_type": "stream",
     "name": "stdout",
     "text": [
      "2979 samples written\n"
     ]
    },
    {
     "output_type": "stream",
     "name": "stderr",
     "text": [
      "test.msgpack 100% 02:24<00:00, 27.14it/s"
     ]
    },
    {
     "output_type": "stream",
     "name": "stdout",
     "text": [
      "3929 samples written\n"
     ]
    },
    {
     "output_type": "stream",
     "name": "stderr",
     "text": [
      "\n"
     ]
    }
   ],
   "metadata": {}
  },
  {
   "cell_type": "code",
   "execution_count": null,
   "source": [],
   "outputs": [],
   "metadata": {}
  }
 ],
 "metadata": {
  "kernelspec": {
   "name": "python3",
   "display_name": "Python 3.6.12 64-bit"
  },
  "language_info": {
   "codemirror_mode": {
    "name": "ipython",
    "version": 3
   },
   "file_extension": ".py",
   "mimetype": "text/x-python",
   "name": "python",
   "nbconvert_exporter": "python",
   "pygments_lexer": "ipython3",
   "version": "3.6.12"
  },
  "interpreter": {
   "hash": "31f2aee4e71d21fbe5cf8b01ff0e069b9275f58929596ceb00d14d90e3e16cd6"
  }
 },
 "nbformat": 4,
 "nbformat_minor": 5
}