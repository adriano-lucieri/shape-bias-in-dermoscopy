{
 "cells": [
  {
   "cell_type": "markdown",
   "source": [
    "# Texture-Removed\n",
    "\n",
    "Here we remove the texture of all lesions by scrambling the pixels spatially on the lesion area, as well as on the surrounding skin separately."
   ],
   "metadata": {}
  },
  {
   "cell_type": "code",
   "execution_count": 1,
   "source": [
    "import cv2\n",
    "import os\n",
    "import random\n",
    "import numpy as np\n",
    "import pandas as pd\n",
    "from matplotlib import pyplot as plt\n",
    "\n",
    "def crop_center(img,cropx):\n",
    "    y,x,c = img.shape\n",
    "    startx = x//2 - cropx//2\n",
    "    starty = y//2 - cropx//2    \n",
    "    return img[starty:starty+cropx, startx:startx+cropx, :]\n",
    "\n",
    "def shuffle_pixels(arr):\n",
    "    p = np.random.permutation(np.arange(arr.shape[0]))\n",
    "    arr = arr[p, :]\n",
    "    return arr\n",
    "\n",
    "def remove_textures_separately(img_name, IMG_SIZE, CROP_SIZE, basepath, seg_basepath):\n",
    "    seg_path = os.path.join(seg_basepath, img_name)\n",
    "    img_path = os.path.join(basepath, img_name)\n",
    "\n",
    "    img = cv2.imread(img_path)\n",
    "    img = cv2.resize(img, (IMG_SIZE, IMG_SIZE))\n",
    "    img = crop_center(img, CROP_SIZE)\n",
    "    img = cv2.resize(img, (IMG_SIZE, IMG_SIZE))\n",
    "\n",
    "    seg = cv2.imread(seg_path)\n",
    "    seg = cv2.resize(seg, (IMG_SIZE, IMG_SIZE))\n",
    "    seg = crop_center(seg, CROP_SIZE)\n",
    "    seg = cv2.resize(seg, (IMG_SIZE, IMG_SIZE))\n",
    "\n",
    "    seg = seg // 255\n",
    "\n",
    "    # Separate inner and outer region pixels\n",
    "    flat_img = img.reshape((-1, 3))\n",
    "    flat_seg = seg.reshape((-1, 3))\n",
    "    flat_seg = flat_seg[:, 0]\n",
    "\n",
    "    inner_pixels = flat_img[flat_seg.astype(bool), :]\n",
    "    outer_pixels = flat_img[~flat_seg.astype(bool), :]\n",
    "\n",
    "    # Shuffle them separately\n",
    "    inner_pixels = shuffle_pixels(inner_pixels)\n",
    "    outer_pixels = shuffle_pixels(outer_pixels)\n",
    "\n",
    "    # Reassemble image\n",
    "    flat_img[flat_seg.astype(bool), :] = inner_pixels\n",
    "    flat_img[~flat_seg.astype(bool), :] = outer_pixels\n",
    "\n",
    "    new_image = flat_img.reshape(img.shape)\n",
    "    \n",
    "    return new_image"
   ],
   "outputs": [],
   "metadata": {}
  },
  {
   "cell_type": "markdown",
   "source": [
    "# Derm7pt"
   ],
   "metadata": {}
  },
  {
   "cell_type": "code",
   "execution_count": 2,
   "source": [
    "lst_settings = [\n",
    "    {\n",
    "        'IMG_SIZE': 256,\n",
    "        'CROP_SIZE': 200,\n",
    "    }\n",
    "]\n",
    "\n",
    "for setting in lst_settings:\n",
    "    IMG_SIZE = setting['IMG_SIZE']\n",
    "    CROP_SIZE = setting['CROP_SIZE']\n",
    "\n",
    "    DEST_FOLDER = f'Derm7pt/augmentations/textures-removed_IMGSize-{IMG_SIZE}_CropSize-{CROP_SIZE}'\n",
    "\n",
    "    data = pd.read_csv('Derm7pt/original/meta/meta.csv')\n",
    "    data = data['derm']\n",
    "\n",
    "    for img_name in data:\n",
    "\n",
    "        img = remove_textures_separately(\n",
    "            img_name, \n",
    "            IMG_SIZE=IMG_SIZE, \n",
    "            CROP_SIZE=CROP_SIZE,\n",
    "            basepath='Derm7pt/original/images',\n",
    "            seg_basepath='Derm7pt/segmentations/images'\n",
    "            )\n",
    "\n",
    "        # Save processed image\n",
    "        basedir = img_name.split('/')[0]\n",
    "        basedir = os.path.join(DEST_FOLDER, basedir)\n",
    "        current_filepath = os.path.join(DEST_FOLDER, img_name)\n",
    "                \n",
    "        if not os.path.exists(basedir):\n",
    "            os.makedirs(basedir)\n",
    "        \n",
    "        cv2.imwrite(current_filepath, img)\n",
    "\n"
   ],
   "outputs": [],
   "metadata": {}
  },
  {
   "cell_type": "markdown",
   "source": [
    "# ISIC"
   ],
   "metadata": {}
  },
  {
   "cell_type": "code",
   "execution_count": 3,
   "source": [
    "lst_settings = [\n",
    "    {\n",
    "        'IMG_SIZE': 256,\n",
    "        'CROP_SIZE': 200,\n",
    "    }\n",
    "]\n",
    "\n",
    "for setting in lst_settings:\n",
    "    IMG_SIZE = setting['IMG_SIZE']\n",
    "    CROP_SIZE = setting['CROP_SIZE']\n",
    "\n",
    "    DEST_FOLDER = f'ISIC/augmentations/textures-removed_IMGSize-{IMG_SIZE}_CropSize-{CROP_SIZE}'\n",
    "\n",
    "    data = pd.read_csv('ISIC/csvs/multi-class_filtered.csv')\n",
    "    data = data['image']\n",
    "\n",
    "    for img_name in data:\n",
    "\n",
    "        img_name = '/'.join(img_name.split('/')[6:])\n",
    "\n",
    "        img = remove_textures_separately(\n",
    "            img_name, \n",
    "            IMG_SIZE=IMG_SIZE, \n",
    "            CROP_SIZE=CROP_SIZE,\n",
    "            basepath='ISIC/original',\n",
    "            seg_basepath='ISIC/segmentations'\n",
    "            )\n",
    "\n",
    "        # Save processed image\n",
    "        basedir = '/'.join(img_name.split('/')[:-1])\n",
    "        basedir = os.path.join(DEST_FOLDER, basedir)\n",
    "        current_filepath = os.path.join(DEST_FOLDER, img_name)\n",
    "                \n",
    "        if not os.path.exists(basedir):\n",
    "            os.makedirs(basedir)\n",
    "        \n",
    "        cv2.imwrite(current_filepath, img)\n",
    "\n"
   ],
   "outputs": [],
   "metadata": {}
  },
  {
   "cell_type": "code",
   "execution_count": null,
   "source": [],
   "outputs": [],
   "metadata": {}
  }
 ],
 "metadata": {
  "orig_nbformat": 4,
  "language_info": {
   "name": "python",
   "version": "3.8.12",
   "mimetype": "text/x-python",
   "codemirror_mode": {
    "name": "ipython",
    "version": 3
   },
   "pygments_lexer": "ipython3",
   "nbconvert_exporter": "python",
   "file_extension": ".py"
  },
  "kernelspec": {
   "name": "python3",
   "display_name": "Python 3.8.12 64-bit ('frexplain': conda)"
  },
  "interpreter": {
   "hash": "7d943cd08861bb9b6a31b23711773ad90e124ece58d3c2770676a2d0f5dfd989"
  }
 },
 "nbformat": 4,
 "nbformat_minor": 2
}